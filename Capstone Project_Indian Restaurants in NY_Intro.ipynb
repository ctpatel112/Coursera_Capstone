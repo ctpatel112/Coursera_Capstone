{
 "cells": [
  {
   "cell_type": "markdown",
   "metadata": {},
   "source": [
    "\n",
    "# Capstone Project\n",
    "## Battle of the Neighborhoods\n",
    "### __To find the most suitable Borough in New York city to open an Indian Cuisine Restaurant__\n",
    "#### ----------------------------------------------------------------------------------------------------------------------------------------------------------------------------------------\n"
   ]
  },
  {
   "cell_type": "markdown",
   "metadata": {},
   "source": [
    "#### __Introduction__\n",
    "\n",
    "According to Mr. Anshu Dua, founder and chief executive officer of The Chaat Co., New York _\"Indian cuisine has been underrepresented in the U.S. market for quite some time. Most Americans experience Indian food in poorly branded, Taj Mahal-themed restaurants with all-you-can-eat buffets featuring mysterious curries, rice and naan. While delicious, that experience hasn’t evolved in most cities for at least the past 30 years.\"As per Washingto Post report,there are, more than 40,000 Chinese restaurants around the country, and roughly the same number of Mexican restaurants, but only about 5,000 Indian restaurants.According to Krishnendu Ray, a professor at New York Univeristy who has been studying the cuisine's rise for more than a decade the Indian cuisine is  the next \"ethnic food trend.\" There are about 2.7 million Indians in the U.S. -- about half a million in New York City.\n",
    "\n",
    "One of the advantages of opening up new Indian cuisine restaurant is that a substantial number of Indian Immigrants are professionals. About 30 percent to 50 percent of Indian immigrants have substantial cultural capital, and many are Anglophones. The prestige of Indian immigrants gets linked to prestige of Indian food. Though, of course, there are also Indians in less professional fields but most of them being proffesional they have more then enough purchasing power if they have suitable option for original ethnic Indian Food. "
   ]
  },
  {
   "cell_type": "markdown",
   "metadata": {},
   "source": [
    "### Business Problem\n",
    "\n",
    "In this project, I want to help my client to find the best borough in New York City to open an Indian Cuisine Restaurant. The challenge is to find a suitable neighborhood which is close enough to some amenities and venues, has fewer competitors, and of course is affordable to rent. An ideal location should be one where there is highest concentration of Indian Americans and should also be near a place where many people visit such as near a cinema, park, garden, playground, and theater.  \n",
    "\n",
    "For this project, I am going to create a simple guide on where to eat based on Foursquare likes, restaurant category and geographic location data for indian restaurants in New York city.  Then I will find Indian restaurants per borough and then highest number of Indian Americans per borough. Then I will try to extract the information on which borough has lowest number of restaurants per population, so that my new venture would have minimium competition and maximum market potential. \n",
    "\n",
    "### __Problem Statement__\n",
    "\n",
    "1.\tWhich is the best rated Indian cuisine restaurant in New York City?\n",
    "2.\tIn what Neighborhood or borough should I open an Indian cuisine restaurant to have the best chance of being successful?\n"
   ]
  },
  {
   "cell_type": "markdown",
   "metadata": {},
   "source": [
    "### Target Audience\n",
    "\n",
    "* Business personnel who wants to invest or open an Indian restaurant in NY. This analysis will be a guide to start Indian restaurants targeting the Indian Americans.\n",
    "* Freelancer who loves to have their own restaurant as a side business. \n",
    "* Indian origin person who wants to move in the neighborhoods with lots of option for Indian restaurants in NY.\n",
    "* Business Analyst or Data Scientists, who wish to analyze the neighborhoods of NY using Exploratory Data Analysis "
   ]
  },
  {
   "cell_type": "code",
   "execution_count": null,
   "metadata": {},
   "outputs": [],
   "source": []
  }
 ],
 "metadata": {
  "kernelspec": {
   "display_name": "Python 3",
   "language": "python",
   "name": "python3"
  },
  "language_info": {
   "codemirror_mode": {
    "name": "ipython",
    "version": 3
   },
   "file_extension": ".py",
   "mimetype": "text/x-python",
   "name": "python",
   "nbconvert_exporter": "python",
   "pygments_lexer": "ipython3",
   "version": "3.7.6"
  }
 },
 "nbformat": 4,
 "nbformat_minor": 4
}
